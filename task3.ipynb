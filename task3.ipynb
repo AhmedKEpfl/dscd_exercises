{
 "cells": [
  {
   "cell_type": "markdown",
   "metadata": {},
   "source": [
    "# Task 3"
   ]
  },
  {
   "cell_type": "markdown",
   "metadata": {},
   "source": [
    "First we import the libraries we will use:"
   ]
  },
  {
   "cell_type": "code",
   "execution_count": 62,
   "metadata": {
    "collapsed": true
   },
   "outputs": [],
   "source": [
    "%matplotlib inline\n",
    "import numpy as np\n",
    "import matplotlib.pyplot as plt\n",
    "from sklearn.metrics import f1_score, recall_score, precision_score\n",
    "from sklearn.model_selection import train_test_split\n",
    "from sklearn.neighbors import KNeighborsClassifier"
   ]
  },
  {
   "cell_type": "markdown",
   "metadata": {},
   "source": [
    "We create the method `get_samples` which will simply generate two classes of samples (with their labels):"
   ]
  },
  {
   "cell_type": "code",
   "execution_count": 28,
   "metadata": {
    "collapsed": true
   },
   "outputs": [],
   "source": [
    "def get_samples(nb_features = 20, mean0 = 2, mean1 = 1.3, nb_samples0 = 2000, nb_samples1 = 2000):\n",
    "    mean0_array = [mean0] * nb_features\n",
    "    mean1_array = [mean1] * nb_features\n",
    "    cov = np.identity(nb_features)\n",
    "    samples0_features = np.random.multivariate_normal(mean0_array, cov, nb_samples0)\n",
    "    samples1_features = np.random.multivariate_normal(mean1_array, cov, nb_samples1)\n",
    "    \n",
    "    labels0 = [0] * nb_samples0\n",
    "    labels1 = [1] * nb_samples1\n",
    "    return samples0_features, samples1_features, labels0, labels1"
   ]
  },
  {
   "cell_type": "markdown",
   "metadata": {},
   "source": [
    "We create the method `get_train_test` which will generate the training and testing sets with their labels:"
   ]
  },
  {
   "cell_type": "code",
   "execution_count": 15,
   "metadata": {
    "collapsed": true
   },
   "outputs": [],
   "source": [
    "def get_train_test(nb_features = 20, mean0 = 2, mean1 = 1.3, nb_samples0 = 2000, nb_samples1 = 2000):\n",
    "    features0, features1, labels0, labels1 = get_samples(nb_features, mean0, mean1, nb_samples0, nb_samples1)\n",
    "    features0_train, features0_test, labels0_train, labels0_test = train_test_split(features0, labels0, test_size = 0.3)\n",
    "    features1_train, features1_test, labels1_train, labels1_test = train_test_split(features1, labels1, test_size = 0.3)\n",
    "    \n",
    "    X_train = np.append(features0_train, features1_train, axis=0)\n",
    "    X_test = np.append(features0_test, features1_test, axis=0)\n",
    "    y_train = labels0_train + labels1_train\n",
    "    y_test = labels0_test + labels1_test\n",
    "    \n",
    "    return X_train, X_test, y_train, y_test"
   ]
  },
  {
   "cell_type": "code",
   "execution_count": 31,
   "metadata": {
    "collapsed": true
   },
   "outputs": [],
   "source": [
    "X_train, X_test, y_train, y_test = get_train_test()"
   ]
  },
  {
   "cell_type": "markdown",
   "metadata": {
    "collapsed": true
   },
   "source": [
    "Now we create a function which takes the range of k values to test as argument and returns the model which achieved the best score, along with all the train and test scores:"
   ]
  },
  {
   "cell_type": "code",
   "execution_count": 81,
   "metadata": {},
   "outputs": [],
   "source": [
    "def get_scores(X_train, X_test, y_train, y_test, k_range = range(1, 200)):\n",
    "    result_train = []\n",
    "    result_test = []\n",
    "    best_test_score = 0\n",
    "    for k in k_range:\n",
    "        if k % 100 == 0:\n",
    "            print(\"k = {}\".format(k))\n",
    "        knn = KNeighborsClassifier(n_neighbors=k)\n",
    "        knn.fit(X_train, y_train)\n",
    "        train_score = knn.score(X_train, y_train)\n",
    "        result_train.append(train_score)\n",
    "        test_score = knn.score(X_test, y_test)\n",
    "        result_test.append(test_score)\n",
    "        \n",
    "        if test_score > best_test_score:\n",
    "            best_test_score = test_score\n",
    "            best_model = knn\n",
    "    return result_train, result_test, best_model"
   ]
  },
  {
   "cell_type": "markdown",
   "metadata": {},
   "source": [
    "We train that model and test it for all values of k between 1 and 500 (inclusive)"
   ]
  },
  {
   "cell_type": "code",
   "execution_count": 56,
   "metadata": {},
   "outputs": [
    {
     "name": "stdout",
     "output_type": "stream",
     "text": [
      "k = 100\n",
      "k = 200\n",
      "k = 300\n",
      "k = 400\n"
     ]
    }
   ],
   "source": [
    "k_range = range(1, 500)\n",
    "train_score, test_score, best_knn = get_scores(X_train, X_test, y_train, y_test, k_range)"
   ]
  },
  {
   "cell_type": "markdown",
   "metadata": {},
   "source": [
    "We plot the test score depending on k:"
   ]
  },
  {
   "cell_type": "code",
   "execution_count": 57,
   "metadata": {},
   "outputs": [
    {
     "data": {
      "text/plain": [
       "[<matplotlib.lines.Line2D at 0x1dbb8318e80>]"
      ]
     },
     "execution_count": 57,
     "metadata": {},
     "output_type": "execute_result"
    },
    {
     "data": {
      "image/png": "[encoded data removed]",
      "text/plain": [
       "<matplotlib.figure.Figure at 0x1dbb829e9e8>"
      ]
     },
     "metadata": {},
     "output_type": "display_data"
    }
   ],
   "source": [
    "plt.plot(k_range, test_score)"
   ]
  },
  {
   "cell_type": "markdown",
   "metadata": {},
   "source": [
    "Discussion: we see that, roughly for the first 150 values of `k`, the test score is increasing but then it remains flat on average for all the values between 200 and 500. \n",
    "\n",
    "Possible approaches for finding the best values of `k` are more or less the same as for other classifiers. What I did is trying all values of `k` in a specific range. However, this can be computationally expensive when we have a lot of features/samples. Another famous approach is to use a logarithmic scale of values for `k`. For example:"
   ]
  },
  {
   "cell_type": "code",
   "execution_count": 69,
   "metadata": {},
   "outputs": [
    {
     "name": "stdout",
     "output_type": "stream",
     "text": [
      "[  10   11   13   16   18   22   25   30   35   41   48   57   67   78   92\n",
      "  108  126  148  174  204  239  280  329  385  452  529  621  727  853 1000]\n"
     ]
    }
   ],
   "source": [
    "k_values = np.logspace(1, 3, dtype=\"int\", num=30)\n",
    "print(k_values)"
   ]
  },
  {
   "cell_type": "markdown",
   "metadata": {},
   "source": [
    "Once we find the best values among those ones we can try to \"look around it\" to see if there is a better value."
   ]
  },
  {
   "cell_type": "markdown",
   "metadata": {},
   "source": [
    "Let's print the score metrics:"
   ]
  },
  {
   "cell_type": "code",
   "execution_count": 64,
   "metadata": {},
   "outputs": [
    {
     "name": "stdout",
     "output_type": "stream",
     "text": [
      "f1 score is 0.9435215946843853\n",
      "precision score is 0.9466666666666667\n",
      "recall score is 0.9403973509933775\n"
     ]
    }
   ],
   "source": [
    "predictions = best_knn.predict(X_test)\n",
    "f1 = f1_score(predictions, y_test)\n",
    "precision = precision_score(predictions, y_test)\n",
    "recall = recall_score(predictions, y_test)\n",
    "print(\"f1 score is {}\".format(f1))\n",
    "print(\"precision score is {}\".format(precision))\n",
    "print(\"recall score is {}\".format(recall))"
   ]
  },
  {
   "cell_type": "markdown",
   "metadata": {},
   "source": [
    "We see that the three values are very close to each other. This was expected because the number of samples was the same for both classes."
   ]
  },
  {
   "cell_type": "markdown",
   "metadata": {},
   "source": [
    "### Unbalanced samples case"
   ]
  },
  {
   "cell_type": "markdown",
   "metadata": {},
   "source": [
    "Now let us try the second situation where we only have 100 samples in the second class:"
   ]
  },
  {
   "cell_type": "code",
   "execution_count": 70,
   "metadata": {
    "collapsed": true
   },
   "outputs": [],
   "source": [
    "X_train, X_test, y_train, y_test = get_train_test(nb_samples1=100)"
   ]
  },
  {
   "cell_type": "markdown",
   "metadata": {},
   "source": [
    "Let's train our model the same way we did before:"
   ]
  },
  {
   "cell_type": "code",
   "execution_count": 83,
   "metadata": {},
   "outputs": [
    {
     "name": "stdout",
     "output_type": "stream",
     "text": [
      "k = 100\n",
      "k = 200\n",
      "k = 300\n",
      "k = 400\n"
     ]
    }
   ],
   "source": [
    "result_train, result_test, best_knn_unbalanced = get_scores(X_train, X_test, y_train, y_test, k_range)"
   ]
  },
  {
   "cell_type": "code",
   "execution_count": 77,
   "metadata": {},
   "outputs": [
    {
     "data": {
      "text/plain": [
       "[<matplotlib.lines.Line2D at 0x1dbb81c0828>]"
      ]
     },
     "execution_count": 77,
     "metadata": {},
     "output_type": "execute_result"
    },
    {
     "data": {
      "image/png": "[encoded data removed]",
      "text/plain": [
       "<matplotlib.figure.Figure at 0x1dbb81bdda0>"
      ]
     },
     "metadata": {},
     "output_type": "display_data"
    }
   ],
   "source": [
    "plt.plot(k_range, result_test)"
   ]
  },
  {
   "cell_type": "markdown",
   "metadata": {},
   "source": [
    "This time the model seems to perform \"better\" for lower values of `k`. Once it has reached a threshold value then it flattens out completely ! Why is that ? Well, there are only 100 samples from class 1 and only 70 training samples. So at some point the classifier will just classify all points as class 0 points and always get an accuracy of 0.952 (`2000 / (2000 + 100)`).\n",
    "\n",
    "The main issue here is that the classes are unbalanced. If there are two classes, one with 2000 samples and the other with 100 samples, then why not just output the first class each time ? This is almost exactly what the model does. It still performs a little better for smaller `k` values, where it manages to classify some class 1 points correctly since the number of neighbors is smaller.\n",
    "\n",
    "Fortunately, accuracy is not the only metric for testing a model. Let's see what the other measures give:"
   ]
  },
  {
   "cell_type": "code",
   "execution_count": 82,
   "metadata": {},
   "outputs": [
    {
     "name": "stdout",
     "output_type": "stream",
     "text": [
      "f1 score is 0.7083333333333334\n",
      "precision score is 0.5666666666666667\n",
      "recall score is 0.9444444444444444\n"
     ]
    }
   ],
   "source": [
    "predictions = best_knn_unbalanced.predict(X_test)\n",
    "f1 = f1_score(predictions, y_test)\n",
    "precision = precision_score(predictions, y_test)\n",
    "recall = recall_score(predictions, y_test)\n",
    "print(\"f1 score is {}\".format(f1))\n",
    "print(\"precision score is {}\".format(precision))\n",
    "print(\"recall score is {}\".format(recall))"
   ]
  },
  {
   "cell_type": "markdown",
   "metadata": {},
   "source": [
    "We see that precision is quite low in fact. Precision and recall are two score measures whose purpose is to make sure we don't fall in the trap of thinking that our model is performing good while the classes are just unbalanced. For more detail you can look at the (sklearn documentation)[https://scikit-learn.org/stable/auto_examples/model_selection/plot_precision_recall.html].\n",
    "\n",
    "**How to deal with this problem:** Well, there are several ways we could deal with this. One of them might be to simply copy the samples from the minority class until both classes have the same number of samples."
   ]
  },
  {
   "cell_type": "markdown",
   "metadata": {},
   "source": [
    "### Time taken for the question\n",
    "Approximately 1h30"
   ]
  }
 ],
 "metadata": {
  "kernelspec": {
   "display_name": "Python 3",
   "language": "python",
   "name": "python3"
  },
  "language_info": {
   "codemirror_mode": {
    "name": "ipython",
    "version": 3
   },
   "file_extension": ".py",
   "mimetype": "text/x-python",
   "name": "python",
   "nbconvert_exporter": "python",
   "pygments_lexer": "ipython3",
   "version": "3.5.4"
  }
 },
 "nbformat": 4,
 "nbformat_minor": 2
}
